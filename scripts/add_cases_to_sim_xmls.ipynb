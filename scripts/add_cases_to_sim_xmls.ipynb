{
 "cells": [
  {
   "cell_type": "code",
   "execution_count": 40,
   "id": "70dfde3e",
   "metadata": {},
   "outputs": [],
   "source": [
    "import pandas as pd\n",
    "import numpy as np\n",
    "import os\n",
    "import re\n",
    "import xml.etree.ElementTree as ET"
   ]
  },
  {
   "cell_type": "code",
   "execution_count": 45,
   "id": "10f4bef0",
   "metadata": {},
   "outputs": [
    {
     "name": "stdout",
     "output_type": "stream",
     "text": [
      "simmulticoal_2_cases_half.xml\n"
     ]
    },
    {
     "name": "stderr",
     "output_type": "stream",
     "text": [
      "/var/folders/h9/0347drb57tsgxzbddmvmlvf80000gp/T/ipykernel_68303/3444565072.py:29: SettingWithCopyWarning: \n",
      "A value is trying to be set on a copy of a slice from a DataFrame\n",
      "\n",
      "See the caveats in the documentation: https://pandas.pydata.org/pandas-docs/stable/user_guide/indexing.html#returning-a-view-versus-a-copy\n",
      "  daily_sim_cases[\"diff\"][daily_sim_cases[\"diff\"] < 0 ] = 0\n"
     ]
    },
    {
     "name": "stdout",
     "output_type": "stream",
     "text": [
      "Modified XML has been created successfully!\n",
      "simmulticoal_5_cases_all.xml\n"
     ]
    },
    {
     "name": "stderr",
     "output_type": "stream",
     "text": [
      "/var/folders/h9/0347drb57tsgxzbddmvmlvf80000gp/T/ipykernel_68303/3444565072.py:29: SettingWithCopyWarning: \n",
      "A value is trying to be set on a copy of a slice from a DataFrame\n",
      "\n",
      "See the caveats in the documentation: https://pandas.pydata.org/pandas-docs/stable/user_guide/indexing.html#returning-a-view-versus-a-copy\n",
      "  daily_sim_cases[\"diff\"][daily_sim_cases[\"diff\"] < 0 ] = 0\n"
     ]
    },
    {
     "name": "stdout",
     "output_type": "stream",
     "text": [
      "Modified XML has been created successfully!\n",
      "simmulticoal_5_cases_half.xml\n"
     ]
    },
    {
     "name": "stderr",
     "output_type": "stream",
     "text": [
      "/var/folders/h9/0347drb57tsgxzbddmvmlvf80000gp/T/ipykernel_68303/3444565072.py:29: SettingWithCopyWarning: \n",
      "A value is trying to be set on a copy of a slice from a DataFrame\n",
      "\n",
      "See the caveats in the documentation: https://pandas.pydata.org/pandas-docs/stable/user_guide/indexing.html#returning-a-view-versus-a-copy\n",
      "  daily_sim_cases[\"diff\"][daily_sim_cases[\"diff\"] < 0 ] = 0\n"
     ]
    },
    {
     "name": "stdout",
     "output_type": "stream",
     "text": [
      "Modified XML has been created successfully!\n",
      "simmulticoal_4_cases_half.xml\n"
     ]
    },
    {
     "name": "stderr",
     "output_type": "stream",
     "text": [
      "/var/folders/h9/0347drb57tsgxzbddmvmlvf80000gp/T/ipykernel_68303/3444565072.py:29: SettingWithCopyWarning: \n",
      "A value is trying to be set on a copy of a slice from a DataFrame\n",
      "\n",
      "See the caveats in the documentation: https://pandas.pydata.org/pandas-docs/stable/user_guide/indexing.html#returning-a-view-versus-a-copy\n",
      "  daily_sim_cases[\"diff\"][daily_sim_cases[\"diff\"] < 0 ] = 0\n"
     ]
    },
    {
     "name": "stdout",
     "output_type": "stream",
     "text": [
      "Modified XML has been created successfully!\n",
      "simmulticoal_2_cases_all.xml\n"
     ]
    },
    {
     "name": "stderr",
     "output_type": "stream",
     "text": [
      "/var/folders/h9/0347drb57tsgxzbddmvmlvf80000gp/T/ipykernel_68303/3444565072.py:29: SettingWithCopyWarning: \n",
      "A value is trying to be set on a copy of a slice from a DataFrame\n",
      "\n",
      "See the caveats in the documentation: https://pandas.pydata.org/pandas-docs/stable/user_guide/indexing.html#returning-a-view-versus-a-copy\n",
      "  daily_sim_cases[\"diff\"][daily_sim_cases[\"diff\"] < 0 ] = 0\n"
     ]
    },
    {
     "name": "stdout",
     "output_type": "stream",
     "text": [
      "Modified XML has been created successfully!\n",
      "simmulticoal_3_cases_half.xml\n"
     ]
    },
    {
     "name": "stderr",
     "output_type": "stream",
     "text": [
      "/var/folders/h9/0347drb57tsgxzbddmvmlvf80000gp/T/ipykernel_68303/3444565072.py:29: SettingWithCopyWarning: \n",
      "A value is trying to be set on a copy of a slice from a DataFrame\n",
      "\n",
      "See the caveats in the documentation: https://pandas.pydata.org/pandas-docs/stable/user_guide/indexing.html#returning-a-view-versus-a-copy\n",
      "  daily_sim_cases[\"diff\"][daily_sim_cases[\"diff\"] < 0 ] = 0\n"
     ]
    },
    {
     "name": "stdout",
     "output_type": "stream",
     "text": [
      "Modified XML has been created successfully!\n",
      "simmulticoal_6_cases_all.xml\n"
     ]
    },
    {
     "name": "stderr",
     "output_type": "stream",
     "text": [
      "/var/folders/h9/0347drb57tsgxzbddmvmlvf80000gp/T/ipykernel_68303/3444565072.py:29: SettingWithCopyWarning: \n",
      "A value is trying to be set on a copy of a slice from a DataFrame\n",
      "\n",
      "See the caveats in the documentation: https://pandas.pydata.org/pandas-docs/stable/user_guide/indexing.html#returning-a-view-versus-a-copy\n",
      "  daily_sim_cases[\"diff\"][daily_sim_cases[\"diff\"] < 0 ] = 0\n"
     ]
    },
    {
     "name": "stdout",
     "output_type": "stream",
     "text": [
      "Modified XML has been created successfully!\n",
      "simmulticoal_8_cases_all.xml\n"
     ]
    },
    {
     "name": "stderr",
     "output_type": "stream",
     "text": [
      "/var/folders/h9/0347drb57tsgxzbddmvmlvf80000gp/T/ipykernel_68303/3444565072.py:29: SettingWithCopyWarning: \n",
      "A value is trying to be set on a copy of a slice from a DataFrame\n",
      "\n",
      "See the caveats in the documentation: https://pandas.pydata.org/pandas-docs/stable/user_guide/indexing.html#returning-a-view-versus-a-copy\n",
      "  daily_sim_cases[\"diff\"][daily_sim_cases[\"diff\"] < 0 ] = 0\n"
     ]
    },
    {
     "name": "stdout",
     "output_type": "stream",
     "text": [
      "Modified XML has been created successfully!\n",
      "simmulticoal_6_cases_half.xml\n"
     ]
    },
    {
     "name": "stderr",
     "output_type": "stream",
     "text": [
      "/var/folders/h9/0347drb57tsgxzbddmvmlvf80000gp/T/ipykernel_68303/3444565072.py:29: SettingWithCopyWarning: \n",
      "A value is trying to be set on a copy of a slice from a DataFrame\n",
      "\n",
      "See the caveats in the documentation: https://pandas.pydata.org/pandas-docs/stable/user_guide/indexing.html#returning-a-view-versus-a-copy\n",
      "  daily_sim_cases[\"diff\"][daily_sim_cases[\"diff\"] < 0 ] = 0\n"
     ]
    },
    {
     "name": "stdout",
     "output_type": "stream",
     "text": [
      "Modified XML has been created successfully!\n",
      "simmulticoal_7_cases_half.xml\n"
     ]
    },
    {
     "name": "stderr",
     "output_type": "stream",
     "text": [
      "/var/folders/h9/0347drb57tsgxzbddmvmlvf80000gp/T/ipykernel_68303/3444565072.py:29: SettingWithCopyWarning: \n",
      "A value is trying to be set on a copy of a slice from a DataFrame\n",
      "\n",
      "See the caveats in the documentation: https://pandas.pydata.org/pandas-docs/stable/user_guide/indexing.html#returning-a-view-versus-a-copy\n",
      "  daily_sim_cases[\"diff\"][daily_sim_cases[\"diff\"] < 0 ] = 0\n"
     ]
    },
    {
     "name": "stdout",
     "output_type": "stream",
     "text": [
      "Modified XML has been created successfully!\n",
      "simmulticoal_8_cases_half.xml\n"
     ]
    },
    {
     "name": "stderr",
     "output_type": "stream",
     "text": [
      "/var/folders/h9/0347drb57tsgxzbddmvmlvf80000gp/T/ipykernel_68303/3444565072.py:29: SettingWithCopyWarning: \n",
      "A value is trying to be set on a copy of a slice from a DataFrame\n",
      "\n",
      "See the caveats in the documentation: https://pandas.pydata.org/pandas-docs/stable/user_guide/indexing.html#returning-a-view-versus-a-copy\n",
      "  daily_sim_cases[\"diff\"][daily_sim_cases[\"diff\"] < 0 ] = 0\n"
     ]
    },
    {
     "name": "stdout",
     "output_type": "stream",
     "text": [
      "Modified XML has been created successfully!\n",
      "simmulticoal_7_cases_all.xml\n"
     ]
    },
    {
     "name": "stderr",
     "output_type": "stream",
     "text": [
      "/var/folders/h9/0347drb57tsgxzbddmvmlvf80000gp/T/ipykernel_68303/3444565072.py:29: SettingWithCopyWarning: \n",
      "A value is trying to be set on a copy of a slice from a DataFrame\n",
      "\n",
      "See the caveats in the documentation: https://pandas.pydata.org/pandas-docs/stable/user_guide/indexing.html#returning-a-view-versus-a-copy\n",
      "  daily_sim_cases[\"diff\"][daily_sim_cases[\"diff\"] < 0 ] = 0\n"
     ]
    },
    {
     "name": "stdout",
     "output_type": "stream",
     "text": [
      "Modified XML has been created successfully!\n",
      "simmulticoal_3_cases_all.xml\n"
     ]
    },
    {
     "name": "stderr",
     "output_type": "stream",
     "text": [
      "/var/folders/h9/0347drb57tsgxzbddmvmlvf80000gp/T/ipykernel_68303/3444565072.py:29: SettingWithCopyWarning: \n",
      "A value is trying to be set on a copy of a slice from a DataFrame\n",
      "\n",
      "See the caveats in the documentation: https://pandas.pydata.org/pandas-docs/stable/user_guide/indexing.html#returning-a-view-versus-a-copy\n",
      "  daily_sim_cases[\"diff\"][daily_sim_cases[\"diff\"] < 0 ] = 0\n"
     ]
    },
    {
     "name": "stdout",
     "output_type": "stream",
     "text": [
      "Modified XML has been created successfully!\n",
      "simmulticoal_4_cases_all.xml\n"
     ]
    },
    {
     "name": "stderr",
     "output_type": "stream",
     "text": [
      "/var/folders/h9/0347drb57tsgxzbddmvmlvf80000gp/T/ipykernel_68303/3444565072.py:29: SettingWithCopyWarning: \n",
      "A value is trying to be set on a copy of a slice from a DataFrame\n",
      "\n",
      "See the caveats in the documentation: https://pandas.pydata.org/pandas-docs/stable/user_guide/indexing.html#returning-a-view-versus-a-copy\n",
      "  daily_sim_cases[\"diff\"][daily_sim_cases[\"diff\"] < 0 ] = 0\n"
     ]
    },
    {
     "name": "stdout",
     "output_type": "stream",
     "text": [
      "Modified XML has been created successfully!\n"
     ]
    }
   ],
   "source": [
    "## this adds in cases to the xmls created via matlab for simulation study\n",
    "num_pattern = r'_([\\d]+)_cases'\n",
    "scheme_pattern = r'cases_(\\w+)\\.xml'\n",
    "numbers = []\n",
    "dir_path = \"../simulations/xmls/\"\n",
    "metadata_path = \"../simulations/\"\n",
    "for filename in os.listdir(\"../simulations/xmls/\"):\n",
    "    if filename.rfind(\"cases\") != -1:\n",
    "        print(filename)\n",
    "        new_filename = os.path.join(dir_path, filename)\n",
    "        with open(new_filename, \"r\") as file:\n",
    "            lines = file.readlines()\n",
    "        scheme_match = re.search(scheme_pattern, filename)\n",
    "        scheme= scheme_match.group(1)\n",
    "        match = re.search(num_pattern, filename)\n",
    "        \n",
    "        if match:\n",
    "        # Add the number to the list\n",
    "            number = match.group(1)\n",
    "            \n",
    "            json_filename = f'eir_{number}.json'\n",
    "            new_json_filename = os.path.join(metadata_path, json_filename)\n",
    "            simulation_df = pd.read_json(new_json_filename, orient = \"index\")\n",
    "            simulation_df = simulation_df.T\n",
    "            simulation_df[\"whole_time\"] = np.ceil(simulation_df.t *366)\n",
    "            # work in terms of whole days\n",
    "            daily_sim_cases = simulation_df.groupby([\"whole_time\"])[\"samp\"].mean().reset_index()\n",
    "            #find the rolling difference to find the number of new cases detected a day\n",
    "            daily_sim_cases[\"diff\"] = daily_sim_cases.samp.diff()\n",
    "            daily_sim_cases[\"diff\"][daily_sim_cases[\"diff\"] < 0 ] = 0\n",
    "            counter = 0\n",
    "            #change to weeks!\n",
    "            daily_sim_cases[\"week_time\"] = np.nan\n",
    "            for index, row in daily_sim_cases.iterrows():\n",
    "                if row.whole_time %7 == 0:\n",
    "                    daily_sim_cases.loc[index,\"week_time\"] = counter \n",
    "                    counter +=1\n",
    "            daily_sim_cases = daily_sim_cases.bfill()\n",
    "            weekly_sim_cases = daily_sim_cases.groupby([\"week_time\"])[\"diff\"].sum().reset_index()\n",
    "            df_np = weekly_sim_cases[\"diff\"].to_numpy().flatten()\n",
    "            blah = df_np.tolist()\n",
    "            blah.reverse()\n",
    "            \n",
    "            \n",
    "            # Modify the XML lines\n",
    "            modified_lines = []\n",
    "            for line in lines:\n",
    "                if \"insert_cases\" in line:\n",
    "                    \n",
    "                    data_text = f\"\\t\\t <parameter id=\\\"cases\\\" spec=\\\"parameter.RealParameter\\\" name=\\\"stateNode\\\"> {' '.join(map(str, blah))} </parameter> \\n\"\n",
    "                    #data_text = f\"\\t\\t <taxon id = \\\"{row['label']}\\\">\\n \\t\\t\\t\\t <attr name =\\\"region\\\">{row['subgroup']}</attr> \\n \\t\\t </taxon> \\n\"\n",
    "                    modified_lines.append(data_text)\n",
    "                else:\n",
    "                    modified_lines.append(line)\n",
    "            \n",
    "            # Write the modified XML to a new file\n",
    "            with open(\"../simulations/xmls/simulation_multicoal_case_prior_\"+ number +\"_\" + scheme+ '.xml', 'w') as file:\n",
    "                file.writelines(modified_lines)\n",
    "\n",
    "            print(\"Modified XML has been created successfully!\")\n",
    "# for number in numbers:\n",
    "#     with open()\n",
    "            \n",
    "#         # Read the XML Template\n",
    "#         #if doing symmetrical, switch to template-sym.xml\n",
    "#         with open(filename, 'r') as file:\n",
    "#             lines = file.readlines()\n",
    "            \n"
   ]
  },
  {
   "cell_type": "code",
   "execution_count": 50,
   "id": "bf23ee6a",
   "metadata": {},
   "outputs": [
    {
     "name": "stdout",
     "output_type": "stream",
     "text": [
      "multicoal_updated_case_prior_la_clusters_with_metadata_10_07.xml\n",
      "Modified XML has been created successfully!\n"
     ]
    }
   ],
   "source": [
    "## this adds in cases to the xmls created via matlab for real data\n",
    "## this is sometimes off by a week, potentially due to leap year? regardless, if it gives you an out of bounds error, try adding in an extra week at the beggining\n",
    "dir_path = \"../multitree_coalescent/xmls/\"\n",
    "\n",
    "for filename in os.listdir(\"../multitree_coalescent/xmls/\"):\n",
    "    if filename.rfind(\"case_prior_\") != -1:\n",
    "        print(filename)\n",
    "        new_filename = os.path.join(dir_path, filename)\n",
    "        with open(new_filename, \"r\") as file:\n",
    "            lines = file.readlines()\n",
    "        \n",
    "        la_mpox_cases_df = pd.read_csv(\"../mpox_build/cluster_assignment/monkeypox_data.csv\")\n",
    "        la_mpox_cases_df = la_mpox_cases_df.dropna(how = \"all\").dropna(axis = \"columns\", how = \"all\")\n",
    "        la_mpox_cases_df = la_mpox_cases_df.rename(columns= {\"Unnamed: 0\": \"date\"})\n",
    "        \n",
    "        ##convert daily to weekly cases\n",
    "        weekly_cases = la_mpox_cases_df.copy()\n",
    "        weekly_cases.date = pd.to_datetime(weekly_cases['date'])\n",
    "        weekly_cases = weekly_cases.set_index(\"date\")\n",
    "        weekly_cases = weekly_cases.resample(\"W\").sum()\n",
    "        \n",
    "        #reindex to backfill\n",
    "        func_df = weekly_cases.reindex(pd.bdate_range('2022-04-18', '2024-09-12', freq = \"W-Sun\")) ##these dates represent the min and max date of samples used in makeMulticoal_skygrowth.m\n",
    "        func_df.cases.tolist()\n",
    "        func_df = func_df.replace(np.nan, 0.1)\n",
    "        func_df = func_df.replace(0, 0.1)\n",
    "        func_df.cases = np.log(func_df.cases) ## needs to be logged be used in BEAST\n",
    "        df_np = func_df.cases.to_numpy().flatten()\n",
    "        blah = df_np.tolist()\n",
    "        blah.reverse()\n",
    "\n",
    "\n",
    "        # Modify the XML lines\n",
    "        modified_lines = []\n",
    "        for line in lines:\n",
    "            if \"insert_cases\" in line:\n",
    "\n",
    "                data_text = f\"\\t\\t <parameter id=\\\"cases\\\" spec=\\\"parameter.RealParameter\\\" name=\\\"stateNode\\\"> {' '.join(map(str, blah))} </parameter> \\n\"\n",
    "                #data_text = f\"\\t\\t <taxon id = \\\"{row['label']}\\\">\\n \\t\\t\\t\\t <attr name =\\\"region\\\">{row['subgroup']}</attr> \\n \\t\\t </taxon> \\n\"\n",
    "                modified_lines.append(data_text)\n",
    "            else:\n",
    "                modified_lines.append(line)\n",
    "\n",
    "        # Write the modified XML to a new file\n",
    "        with open(\"../multitree_coalescent/xmls/updated_\" + filename , 'w') as file:\n",
    "            file.writelines(modified_lines)\n",
    "\n",
    "        print(\"Modified XML has been created successfully!\")\n",
    "# for number in numbers:\n",
    "#     with open()\n",
    "            \n",
    "#         # Read the XML Template\n",
    "#         #if doing symmetrical, switch to template-sym.xml\n",
    "#         with open(filename, 'r') as file:\n",
    "#             lines = file.readlines()\n",
    "            \n"
   ]
  },
  {
   "cell_type": "code",
   "execution_count": null,
   "id": "36d97182",
   "metadata": {},
   "outputs": [],
   "source": []
  }
 ],
 "metadata": {
  "kernelspec": {
   "display_name": "Python 3 (ipykernel)",
   "language": "python",
   "name": "python3"
  },
  "language_info": {
   "codemirror_mode": {
    "name": "ipython",
    "version": 3
   },
   "file_extension": ".py",
   "mimetype": "text/x-python",
   "name": "python",
   "nbconvert_exporter": "python",
   "pygments_lexer": "ipython3",
   "version": "3.8.13"
  }
 },
 "nbformat": 4,
 "nbformat_minor": 5
}
