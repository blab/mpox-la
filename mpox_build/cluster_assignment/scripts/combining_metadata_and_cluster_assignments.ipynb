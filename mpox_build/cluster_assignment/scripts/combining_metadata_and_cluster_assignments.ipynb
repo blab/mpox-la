{
 "cells": [
  {
   "cell_type": "markdown",
   "id": "5999ff99",
   "metadata": {},
   "source": [
    "## script for combining each cluster assignment and metadata into one file "
   ]
  },
  {
   "cell_type": "code",
   "execution_count": 1,
   "id": "a009b73e",
   "metadata": {},
   "outputs": [],
   "source": [
    "import pandas as pd\n",
    "import dendropy\n",
    "import numpy as np\n",
    "import re\n",
    "import random"
   ]
  },
  {
   "cell_type": "code",
   "execution_count": 3,
   "id": "3030d074",
   "metadata": {},
   "outputs": [],
   "source": [
    "\n",
    "newickpath = \"../../phylogenetic/old_results/11-07-24/tree.nwk\"\n",
    "clusters = \"la_county_clusters.tsv\"\n",
    "metadata = \"../cluster_metadata.tsv\"\n",
    "\n",
    "#read in all three files\n",
    "tree2 = dendropy.Tree.get(file=open(newickpath, \"r\"), schema=\"newick\")\n",
    "df = pd.read_csv(clusters, sep =\"\\t\", index_col = 'strain')\n",
    "meta_df = pd.read_csv(metadata, sep =\"\\t\", index_col = 'accession')\n",
    "\n",
    "df[\"location\"] = np.nan\n",
    "df['date'] = np.nan\n",
    "\n",
    "#for each leaf in the tree, add metadata information into cluster dataset. \n",
    "for leaf in tree2.leaf_node_iter():\n",
    "    taxon_number = re.findall(r\"'(.*?)'\", str(leaf.taxon), re.DOTALL)\n",
    "    if taxon_number[0] in list(df.index):\n",
    "        df.loc[taxon_number[0], 'date'] =  meta_df.loc[taxon_number[0], 'date']\n",
    "        df.loc[taxon_number[0], 'location'] =  meta_df.loc[taxon_number[0], 'focus_areas']\n",
    "        df.loc[taxon_number[0], 'lineage'] =  meta_df.loc[taxon_number[0], 'lineage']\n",
    "\n",
    "        \n",
    "#removing blanks and NAs for dates\n",
    "df.replace(\"\", np.nan, inplace=True)\n",
    "df.dropna(subset = [\"date\"], inplace=True)\n",
    "\n",
    "\n",
    "#make sure to change the name for each respective variant build. Will automate soon.\n",
    "df.to_csv(\"la_clusters_with_metadata.tsv\", sep = \"\\t\")\n"
   ]
  },
  {
   "cell_type": "code",
   "execution_count": null,
   "id": "ff2e1d09",
   "metadata": {},
   "outputs": [],
   "source": []
  }
 ],
 "metadata": {
  "kernelspec": {
   "display_name": "Python 3 (ipykernel)",
   "language": "python",
   "name": "python3"
  },
  "language_info": {
   "codemirror_mode": {
    "name": "ipython",
    "version": 3
   },
   "file_extension": ".py",
   "mimetype": "text/x-python",
   "name": "python",
   "nbconvert_exporter": "python",
   "pygments_lexer": "ipython3",
   "version": "3.8.13"
  }
 },
 "nbformat": 4,
 "nbformat_minor": 5
}
