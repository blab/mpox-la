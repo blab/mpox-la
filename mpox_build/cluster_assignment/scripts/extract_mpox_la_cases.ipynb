{
 "cells": [
  {
   "cell_type": "code",
   "execution_count": 1,
   "id": "4339dca2",
   "metadata": {},
   "outputs": [],
   "source": [
    "## LA County mpox cases \n",
    "import requests\n",
    "from bs4 import BeautifulSoup\n",
    "import json\n",
    "import pandas as pd\n",
    "from datetime import datetime\n",
    "\n"
   ]
  },
  {
   "cell_type": "code",
   "execution_count": 2,
   "id": "39f0ce8f",
   "metadata": {},
   "outputs": [
    {
     "name": "stdout",
     "output_type": "stream",
     "text": [
      "          date  cases\n",
      "0   2022-05-19      1\n",
      "1   2022-05-20      0\n",
      "2   2022-05-21      0\n",
      "3   2022-05-22      0\n",
      "4   2022-05-23      0\n",
      "..         ...    ...\n",
      "892 2024-10-27      0\n",
      "893 2024-10-28      0\n",
      "894 2024-10-29      0\n",
      "895 2024-10-30      1\n",
      "896 2024-10-31      0\n",
      "\n",
      "[897 rows x 2 columns]\n",
      "Data saved to monkeypox_data.csv\n"
     ]
    }
   ],
   "source": [
    "def fetch_mpx_data(url):\n",
    "    response = requests.get(url)\n",
    "    soup = BeautifulSoup(response.text, 'html.parser')\n",
    "    script_tag = soup.find('script', {'type': 'application/json'})\n",
    "    if not script_tag:\n",
    "        raise ValueError(\"Could not find the data in the script tag\")\n",
    "    return json.loads(script_tag.string)\n",
    "\n",
    "def process_data(data):\n",
    "    plot_data = data['x']['data'][1]\n",
    "    dates = pd.to_datetime(plot_data['x'])\n",
    "    cases = plot_data['y']\n",
    "    \n",
    "    df = pd.DataFrame({\n",
    "        'date': dates,\n",
    "        'cases': cases\n",
    "    })\n",
    "    \n",
    "    full_date_range = pd.date_range(start=df['date'].min(), end=df['date'].max())\n",
    "    df = df.set_index('date').reindex(full_date_range, fill_value=0).rename_axis('date').reset_index()\n",
    "    df = df.sort_values('date').reset_index(drop=True)\n",
    "    \n",
    "    return df\n",
    "\n",
    "def main():\n",
    "    url = \"http://publichealth.lacounty.gov/media/monkeypox/data/mpx-graph-wkly-widget_Alltime.html\"\n",
    "    \n",
    "    try:\n",
    "        raw_data = fetch_mpx_data(url)\n",
    "        df = process_data(raw_data)\n",
    "        \n",
    "        print(df)\n",
    "        \n",
    "        df.to_csv('monkeypox_data.csv', index=False)\n",
    "        print(\"Data saved to monkeypox_data.csv\")\n",
    "    \n",
    "    except Exception as e:\n",
    "        print(f\"An error occurred: {e}\")\n",
    "\n",
    "if __name__ == \"__main__\":\n",
    "    main()"
   ]
  },
  {
   "cell_type": "code",
   "execution_count": null,
   "id": "9538dbae",
   "metadata": {},
   "outputs": [],
   "source": []
  }
 ],
 "metadata": {
  "kernelspec": {
   "display_name": "Python 3 (ipykernel)",
   "language": "python",
   "name": "python3"
  },
  "language_info": {
   "codemirror_mode": {
    "name": "ipython",
    "version": 3
   },
   "file_extension": ".py",
   "mimetype": "text/x-python",
   "name": "python",
   "nbconvert_exporter": "python",
   "pygments_lexer": "ipython3",
   "version": "3.8.13"
  }
 },
 "nbformat": 4,
 "nbformat_minor": 5
}
