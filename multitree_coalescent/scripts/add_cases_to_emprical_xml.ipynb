{
 "cells": [
  {
   "cell_type": "code",
   "execution_count": 2,
   "id": "1171ea2d",
   "metadata": {},
   "outputs": [],
   "source": [
    "import os\n",
    "import re\n",
    "import xml.etree\n",
    "import pandas as pd\n",
    "import numpy as np\n",
    "import os\n",
    "import re\n",
    "import xml.etree.ElementTree as ET"
   ]
  },
  {
   "cell_type": "code",
   "execution_count": 14,
   "id": "a0f7f101",
   "metadata": {},
   "outputs": [
    {
     "name": "stdout",
     "output_type": "stream",
     "text": [
      "multicoal_case_prior_la_clusters_with_metadata_01_22.xml\n",
      "Modified XML has been created successfully!\n"
     ]
    }
   ],
   "source": [
    "## this adds in cases to the xmls created via matlab for real data but SMOOTHES the data over THREE weeks. \n",
    "## this is sometimes off by a week, potentially due to leap year? regardless, if it gives you an out of bounds error, try adding in an extra week at the beggining\n",
    "\n",
    "dir_path = \"../xmls/\"\n",
    "\n",
    "for filename in os.listdir(\"../xmls/\"):\n",
    "    if (filename.rfind(\"case_prior_\") != -1) & (filename.rfind(\"updated\") == -1):\n",
    "        print(filename)\n",
    "        new_filename = os.path.join(dir_path, filename)\n",
    "        with open(new_filename, \"r\") as file:\n",
    "            lines = file.readlines()\n",
    "        \n",
    "        la_mpox_cases_df = pd.read_csv(\"../data/monkeypox_data.csv\")\n",
    "        la_mpox_cases_df = la_mpox_cases_df.dropna(how = \"all\").dropna(axis = \"columns\", how = \"all\")\n",
    "        la_mpox_cases_df = la_mpox_cases_df.rename(columns= {\"Unnamed: 0\": \"date\"})\n",
    "        \n",
    "        ##convert daily to weekly cases\n",
    "        weekly_cases = la_mpox_cases_df.copy()\n",
    "        weekly_cases.date = pd.to_datetime(weekly_cases['date'])\n",
    "        weekly_cases = weekly_cases.set_index(\"date\")\n",
    "        weekly_cases = weekly_cases.resample(\"W\").sum()\n",
    "        \n",
    "        #reindex to backfill\n",
    "        func_df = weekly_cases.reindex(pd.bdate_range('2022-04-14', '2024-12-12', freq = \"W-Sun\")) ##these dates represent the min and max date of samples used in makeMulticoal_skygrowth.m\n",
    "        func_df.cases.tolist()\n",
    "        func_df = func_df.replace(np.nan, 0.1)\n",
    "        func_df = func_df.replace(0, 0.1)\n",
    "        func_df.cases = np.log(func_df.cases) ## needs to be logged be used in BEAST\n",
    "        func_df[\"cases_MA\"] = func_df[\"cases\"].rolling(3, min_periods=1).mean()\n",
    "        df_np = func_df.cases_MA.to_numpy().flatten()\n",
    "        blah = df_np.tolist()\n",
    "        blah.reverse()\n",
    "\n",
    "        # Modify the XML lines\n",
    "        modified_lines = []\n",
    "        for line in lines:\n",
    "            if \"insert_cases\" in line:\n",
    "\n",
    "                data_text = f\"\\t\\t <parameter id=\\\"cases\\\" spec=\\\"parameter.RealParameter\\\" name=\\\"stateNode\\\"> {' '.join(map(str, blah))} </parameter> \\n\"\n",
    "                #data_text = f\"\\t\\t <taxon id = \\\"{row['label']}\\\">\\n \\t\\t\\t\\t <attr name =\\\"region\\\">{row['subgroup']}</attr> \\n \\t\\t </taxon> \\n\"\n",
    "                modified_lines.append(data_text)\n",
    "            else:\n",
    "                modified_lines.append(line)\n",
    "\n",
    "        # Write the modified XML to a new file\n",
    "        with open(\"../xmls/multicoal_smoothed_\" + filename , 'w') as file:\n",
    "            file.writelines(modified_lines)\n",
    "\n",
    "        print(\"Modified XML has been created successfully!\")\n"
   ]
  },
  {
   "cell_type": "code",
   "execution_count": 15,
   "id": "4d13a215",
   "metadata": {},
   "outputs": [
    {
     "name": "stdout",
     "output_type": "stream",
     "text": [
      "multicoal_case_prior_la_clusters_with_metadata_01_22.xml\n",
      "Modified XML has been created successfully!\n"
     ]
    }
   ],
   "source": [
    "## this adds in cases to the xmls created via matlab for real data\n",
    "## this is sometimes off by a week, potentially due to leap year? regardless, if it gives you an out of bounds error, try adding in an extra week at the beggining\n",
    "dir_path = \"../xmls/\"\n",
    "\n",
    "for filename in os.listdir(\"../xmls/\"):\n",
    "    if (filename.rfind(\"case_prior_\") != -1) & (filename.rfind(\"smoothed\") == -1):\n",
    "        print(filename)\n",
    "        new_filename = os.path.join(dir_path, filename)\n",
    "        with open(new_filename, \"r\") as file:\n",
    "            lines = file.readlines()\n",
    "        \n",
    "        la_mpox_cases_df = pd.read_csv(\"../data/monkeypox_data.csv\")\n",
    "        la_mpox_cases_df = la_mpox_cases_df.dropna(how = \"all\").dropna(axis = \"columns\", how = \"all\")\n",
    "        la_mpox_cases_df = la_mpox_cases_df.rename(columns= {\"Unnamed: 0\": \"date\"})\n",
    "        \n",
    "        ##convert daily to weekly cases\n",
    "        weekly_cases = la_mpox_cases_df.copy()\n",
    "        weekly_cases.date = pd.to_datetime(weekly_cases['date'])\n",
    "        weekly_cases = weekly_cases.set_index(\"date\")\n",
    "        weekly_cases = weekly_cases.resample(\"W\").sum()\n",
    "        \n",
    "        #reindex to backfill\n",
    "        func_df = weekly_cases.reindex(pd.bdate_range('2022-04-14', '2024-12-12', freq = \"W-Sun\")) ##these dates represent the min and max date of samples used in makeMulticoal_skygrowth.m\n",
    "        func_df.cases.tolist()\n",
    "        func_df = func_df.replace(np.nan, 0.1)\n",
    "        func_df = func_df.replace(0, 0.1)\n",
    "        func_df.cases = np.log(func_df.cases) ## needs to be logged be used in BEAST\n",
    "        df_np = func_df.cases.to_numpy().flatten()\n",
    "        blah = df_np.tolist()\n",
    "        blah.reverse()\n",
    "\n",
    "\n",
    "        # Modify the XML lines\n",
    "        modified_lines = []\n",
    "        for line in lines:\n",
    "            if \"insert_cases\" in line:\n",
    "\n",
    "                data_text = f\"\\t\\t <parameter id=\\\"cases\\\" spec=\\\"parameter.RealParameter\\\" name=\\\"stateNode\\\"> {' '.join(map(str, blah))} </parameter> \\n\"\n",
    "                #data_text = f\"\\t\\t <taxon id = \\\"{row['label']}\\\">\\n \\t\\t\\t\\t <attr name =\\\"region\\\">{row['subgroup']}</attr> \\n \\t\\t </taxon> \\n\"\n",
    "                modified_lines.append(data_text)\n",
    "            else:\n",
    "                modified_lines.append(line)\n",
    "\n",
    "        # Write the modified XML to a new file\n",
    "        with open(\"../xmls/multicoal_not_smoothed_\" + filename , 'w') as file:\n",
    "            file.writelines(modified_lines)\n",
    "\n",
    "        print(\"Modified XML has been created successfully!\")\n",
    "# for number in numbers:\n",
    "#     with open()\n",
    "            \n",
    "#         # Read the XML Template\n",
    "#         #if doing symmetrical, switch to template-sym.xml\n",
    "#         with open(filename, 'r') as file:\n",
    "#             lines = file.readlines()\n",
    "            \n"
   ]
  },
  {
   "cell_type": "code",
   "execution_count": 18,
   "id": "6c8e9c90",
   "metadata": {},
   "outputs": [
    {
     "data": {
      "text/plain": [
       "138"
      ]
     },
     "execution_count": 18,
     "metadata": {},
     "output_type": "execute_result"
    }
   ],
   "source": [
    "la_mpox_cases_df = pd.read_csv(\"../data/monkeypox_data.csv\")\n",
    "la_mpox_cases_df = la_mpox_cases_df.dropna(how = \"all\").dropna(axis = \"columns\", how = \"all\")\n",
    "la_mpox_cases_df = la_mpox_cases_df.rename(columns= {\"Unnamed: 0\": \"date\"})\n",
    "\n",
    "##convert daily to weekly cases\n",
    "weekly_cases = la_mpox_cases_df.copy()\n",
    "weekly_cases.date = pd.to_datetime(weekly_cases['date'])\n",
    "weekly_cases = weekly_cases.set_index(\"date\")\n",
    "weekly_cases = weekly_cases.resample(\"W\").sum()\n",
    "\n",
    "#reindex to backfill\n",
    "func_df = weekly_cases.reindex(pd.bdate_range('2022-04-18', '2024-12-12', freq = \"W-Sun\")) ##these dates represent the min and max date of samples used in makeMulticoal_skygrowth.m\n",
    "func_df.cases.tolist()\n",
    "func_df = func_df.replace(np.nan, 0.1)\n",
    "func_df = func_df.replace(0, 0.1)\n",
    "len(func_df)"
   ]
  },
  {
   "cell_type": "code",
   "execution_count": null,
   "id": "d9ff486d",
   "metadata": {},
   "outputs": [],
   "source": []
  }
 ],
 "metadata": {
  "kernelspec": {
   "display_name": "Python 3 (ipykernel)",
   "language": "python",
   "name": "python3"
  },
  "language_info": {
   "codemirror_mode": {
    "name": "ipython",
    "version": 3
   },
   "file_extension": ".py",
   "mimetype": "text/x-python",
   "name": "python",
   "nbconvert_exporter": "python",
   "pygments_lexer": "ipython3",
   "version": "3.8.13"
  }
 },
 "nbformat": 4,
 "nbformat_minor": 5
}
